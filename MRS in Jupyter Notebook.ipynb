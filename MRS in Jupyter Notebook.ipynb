{
 "cells": [
  {
   "cell_type": "code",
   "execution_count": 28,
   "id": "e07561c7",
   "metadata": {},
   "outputs": [],
   "source": [
    "import pandas as pd\n",
    "import numpy as np\n",
    "import re\n",
    "from ast import literal_eval\n",
    "import matplotlib as m\n",
    "df1 = pd.read_csv(\"tmdb_5000_credits.csv\")\n",
    "df2 = pd.read_csv(\"tmdb_5000_movies.csv\")"
   ]
  },
  {
   "cell_type": "code",
   "execution_count": 29,
   "id": "43379137",
   "metadata": {},
   "outputs": [
    {
     "data": {
      "text/plain": [
       "19212"
      ]
     },
     "execution_count": 29,
     "metadata": {},
     "output_type": "execute_result"
    }
   ],
   "source": [
    "# df1.head()      #before merging - large dataset(df1 - 19212 ,df2 - 96060) then inner join/merge performed so only 4809 remaining\n",
    "df1.size"
   ]
  },
  {
   "cell_type": "code",
   "execution_count": 30,
   "id": "754377fa",
   "metadata": {},
   "outputs": [],
   "source": [
    "df = df1.merge(df2)"
   ]
  },
  {
   "cell_type": "code",
   "execution_count": 101,
   "id": "738c1048",
   "metadata": {},
   "outputs": [
    {
     "data": {
      "text/html": [
       "<div>\n",
       "<style scoped>\n",
       "    .dataframe tbody tr th:only-of-type {\n",
       "        vertical-align: middle;\n",
       "    }\n",
       "\n",
       "    .dataframe tbody tr th {\n",
       "        vertical-align: top;\n",
       "    }\n",
       "\n",
       "    .dataframe thead th {\n",
       "        text-align: right;\n",
       "    }\n",
       "</style>\n",
       "<table border=\"1\" class=\"dataframe\">\n",
       "  <thead>\n",
       "    <tr style=\"text-align: right;\">\n",
       "      <th></th>\n",
       "      <th>movie_id</th>\n",
       "      <th>title</th>\n",
       "      <th>tag</th>\n",
       "    </tr>\n",
       "  </thead>\n",
       "  <tbody>\n",
       "    <tr>\n",
       "      <th>0</th>\n",
       "      <td>19995</td>\n",
       "      <td>Avatar</td>\n",
       "      <td>samworthington zoesaldana sigourneyweav stephe...</td>\n",
       "    </tr>\n",
       "    <tr>\n",
       "      <th>1</th>\n",
       "      <td>285</td>\n",
       "      <td>Pirates of the Caribbean: At World's End</td>\n",
       "      <td>johnnydepp orlandobloom keiraknightley stellan...</td>\n",
       "    </tr>\n",
       "    <tr>\n",
       "      <th>2</th>\n",
       "      <td>206647</td>\n",
       "      <td>Spectre</td>\n",
       "      <td>danielcraig christophwaltz léaseydoux ralphfie...</td>\n",
       "    </tr>\n",
       "    <tr>\n",
       "      <th>3</th>\n",
       "      <td>49026</td>\n",
       "      <td>The Dark Knight Rises</td>\n",
       "      <td>christianbal michaelcain garyoldman annehathaw...</td>\n",
       "    </tr>\n",
       "    <tr>\n",
       "      <th>4</th>\n",
       "      <td>49529</td>\n",
       "      <td>John Carter</td>\n",
       "      <td>taylorkitsch lynncollin samanthamorton willemd...</td>\n",
       "    </tr>\n",
       "  </tbody>\n",
       "</table>\n",
       "</div>"
      ],
      "text/plain": [
       "   movie_id                                     title  \\\n",
       "0     19995                                    Avatar   \n",
       "1       285  Pirates of the Caribbean: At World's End   \n",
       "2    206647                                   Spectre   \n",
       "3     49026                     The Dark Knight Rises   \n",
       "4     49529                               John Carter   \n",
       "\n",
       "                                                 tag  \n",
       "0  samworthington zoesaldana sigourneyweav stephe...  \n",
       "1  johnnydepp orlandobloom keiraknightley stellan...  \n",
       "2  danielcraig christophwaltz léaseydoux ralphfie...  \n",
       "3  christianbal michaelcain garyoldman annehathaw...  \n",
       "4  taylorkitsch lynncollin samanthamorton willemd...  "
      ]
     },
     "execution_count": 101,
     "metadata": {},
     "output_type": "execute_result"
    }
   ],
   "source": [
    "df.head()"
   ]
  },
  {
   "cell_type": "code",
   "execution_count": 32,
   "id": "c0480f8f",
   "metadata": {},
   "outputs": [
    {
     "data": {
      "text/plain": [
       "movie_id                   0\n",
       "title                      0\n",
       "cast                       0\n",
       "crew                       0\n",
       "budget                     0\n",
       "genres                     0\n",
       "homepage                3096\n",
       "id                         0\n",
       "keywords                   0\n",
       "original_language          0\n",
       "original_title             0\n",
       "overview                   3\n",
       "popularity                 0\n",
       "production_companies       0\n",
       "production_countries       0\n",
       "release_date               1\n",
       "revenue                    0\n",
       "runtime                    2\n",
       "spoken_languages           0\n",
       "status                     0\n",
       "tagline                  844\n",
       "vote_average               0\n",
       "vote_count                 0\n",
       "dtype: int64"
      ]
     },
     "execution_count": 32,
     "metadata": {},
     "output_type": "execute_result"
    }
   ],
   "source": [
    "#check for null values in df\n",
    "df.isnull().sum()"
   ]
  },
  {
   "cell_type": "code",
   "execution_count": 33,
   "id": "9c3ca867",
   "metadata": {},
   "outputs": [
    {
     "name": "stdout",
     "output_type": "stream",
     "text": [
      "<class 'pandas.core.frame.DataFrame'>\n",
      "Int64Index: 4809 entries, 0 to 4808\n",
      "Data columns (total 23 columns):\n",
      " #   Column                Non-Null Count  Dtype  \n",
      "---  ------                --------------  -----  \n",
      " 0   movie_id              4809 non-null   int64  \n",
      " 1   title                 4809 non-null   object \n",
      " 2   cast                  4809 non-null   object \n",
      " 3   crew                  4809 non-null   object \n",
      " 4   budget                4809 non-null   int64  \n",
      " 5   genres                4809 non-null   object \n",
      " 6   homepage              1713 non-null   object \n",
      " 7   id                    4809 non-null   int64  \n",
      " 8   keywords              4809 non-null   object \n",
      " 9   original_language     4809 non-null   object \n",
      " 10  original_title        4809 non-null   object \n",
      " 11  overview              4806 non-null   object \n",
      " 12  popularity            4809 non-null   float64\n",
      " 13  production_companies  4809 non-null   object \n",
      " 14  production_countries  4809 non-null   object \n",
      " 15  release_date          4808 non-null   object \n",
      " 16  revenue               4809 non-null   int64  \n",
      " 17  runtime               4807 non-null   float64\n",
      " 18  spoken_languages      4809 non-null   object \n",
      " 19  status                4809 non-null   object \n",
      " 20  tagline               3965 non-null   object \n",
      " 21  vote_average          4809 non-null   float64\n",
      " 22  vote_count            4809 non-null   int64  \n",
      "dtypes: float64(3), int64(5), object(15)\n",
      "memory usage: 901.7+ KB\n"
     ]
    }
   ],
   "source": [
    "# df.size     #this row*column\n",
    "#len(df)      #this gives no. of rows\n",
    "df.info()"
   ]
  },
  {
   "cell_type": "code",
   "execution_count": 34,
   "id": "28fad5e7",
   "metadata": {},
   "outputs": [],
   "source": [
    "#as only want usefull columns so remove the unnessecery ones(budget, homepage, id, popularity, revenue, runtime, status, vote_count)\n",
    "df = df[[\"movie_id\", \"title\", \"overview\" , \"cast\", \"crew\", \"genres\", \"keywords\", \"original_language\", \"production_companies\", \"tagline\",\"production_countries\", \"release_date\",  \"vote_average\"]]\n",
    "df[\"year\"] = df[\"release_date\"].apply(lambda x: str(x).split(\"-\")[0])\n",
    "df.drop(\"release_date\",axis = 1,inplace = True)"
   ]
  },
  {
   "cell_type": "code",
   "execution_count": 35,
   "id": "e760a5a8-4a29-4277-89e5-94e5e8b24579",
   "metadata": {},
   "outputs": [
    {
     "data": {
      "text/plain": [
       "'[{\"iso_3166_1\": \"US\", \"name\": \"United States of America\"}, {\"iso_3166_1\": \"GB\", \"name\": \"United Kingdom\"}]'"
      ]
     },
     "execution_count": 35,
     "metadata": {},
     "output_type": "execute_result"
    }
   ],
   "source": [
    "df[\"vote_average\"] = df[\"vote_average\"].apply(lambda x : str(round(int(x))))\n",
    "df.production_countries[0]"
   ]
  },
  {
   "cell_type": "code",
   "execution_count": 36,
   "id": "ef68253b-c5ca-4995-a9fb-9a8d3029835e",
   "metadata": {},
   "outputs": [],
   "source": [
    "\n",
    "def convert(obj):\n",
    "    out = []\n",
    "    for i in literal_eval(obj):\n",
    "        out.append(i['name'])\n",
    "    return out\n"
   ]
  },
  {
   "cell_type": "code",
   "execution_count": 37,
   "id": "43dbe0a1",
   "metadata": {},
   "outputs": [],
   "source": [
    "df[\"genres\"] = df[\"genres\"].apply(convert)"
   ]
  },
  {
   "cell_type": "code",
   "execution_count": 38,
   "id": "37e20442",
   "metadata": {},
   "outputs": [],
   "source": [
    "df.dropna(axis=1, inplace=True)"
   ]
  },
  {
   "cell_type": "code",
   "execution_count": 39,
   "id": "72f05605",
   "metadata": {},
   "outputs": [],
   "source": [
    "#format cast,crew, keywords, production_companies,production_countries\n",
    "\n",
    "df[\"keywords\"] = df[\"keywords\"].apply(convert)\n",
    "df[\"production_companies\"] = df[\"production_companies\"].apply(convert)\n",
    "df[\"production_countries\"] = df[\"production_countries\"].apply(convert)"
   ]
  },
  {
   "cell_type": "code",
   "execution_count": 40,
   "id": "8223d37d",
   "metadata": {},
   "outputs": [],
   "source": [
    "#Fetching the director\n",
    "def directorf(obj):\n",
    "    out = []\n",
    "    for i in literal_eval(obj):\n",
    "        if i['job'] == 'Director':\n",
    "            out.append(i['name'])\n",
    "            break\n",
    "    return out"
   ]
  },
  {
   "cell_type": "code",
   "execution_count": 41,
   "id": "222217a4",
   "metadata": {},
   "outputs": [],
   "source": [
    "#Fetching top 5 crew members\n",
    "def castf(obj):\n",
    "    out = []\n",
    "    for i in literal_eval(obj)[:5]:\n",
    "        out.append(i['name']) \n",
    "    return out"
   ]
  },
  {
   "cell_type": "code",
   "execution_count": 42,
   "id": "c4f8bbdd",
   "metadata": {},
   "outputs": [],
   "source": [
    "df[\"cast\"] = df[\"cast\"].apply(castf)\n",
    "df[\"crew\"] = df[\"crew\"].apply(directorf)"
   ]
  },
  {
   "cell_type": "code",
   "execution_count": 43,
   "id": "a416c7a0",
   "metadata": {},
   "outputs": [],
   "source": [
    "df[\"original_language\"] = df[\"original_language\"].apply(lambda x : x.split())\n",
    "df[\"vote_average\"] = df[\"vote_average\"].apply(lambda x : x.split())\n",
    "df[\"year\"] = df[\"year\"].apply(lambda x : x.split())"
   ]
  },
  {
   "cell_type": "code",
   "execution_count": 44,
   "id": "6e7fe449",
   "metadata": {},
   "outputs": [],
   "source": [
    "df[\"cast\"] = df[\"cast\"].apply(lambda x : [i.replace(\" \", \"\") for i in x])\n",
    "df[\"crew\"] = df[\"crew\"].apply(lambda x : [i.replace(\" \", \"\") for i in x])\n",
    "df[\"genres\"] = df[\"genres\"].apply(lambda x : [i.replace(\" \", \"\") for i in x])\n",
    "df[\"keywords\"] = df[\"keywords\"].apply(lambda x : [i.replace(\" \", \"\") for i in x])\n",
    "df[\"production_companies\"] = df[\"production_companies\"].apply(lambda x : [i.replace(\" \", \"\") for i in x])\n",
    "df[\"production_countries\"] = df[\"production_countries\"].apply(lambda x : [i.replace(\" \", \"\") for i in x])"
   ]
  },
  {
   "cell_type": "code",
   "execution_count": 45,
   "id": "df401126",
   "metadata": {},
   "outputs": [],
   "source": [
    "df[\"tag\"] = df[\"cast\"] + df[\"crew\"] + df[\"genres\"] + df[\"keywords\"] + df[\"original_language\"] + df[\"production_companies\"] + df[\"production_countries\"] + df[\"vote_average\"] + df[\"year\"]"
   ]
  },
  {
   "cell_type": "code",
   "execution_count": 46,
   "id": "018a6be3",
   "metadata": {},
   "outputs": [
    {
     "data": {
      "text/html": [
       "<div>\n",
       "<style scoped>\n",
       "    .dataframe tbody tr th:only-of-type {\n",
       "        vertical-align: middle;\n",
       "    }\n",
       "\n",
       "    .dataframe tbody tr th {\n",
       "        vertical-align: top;\n",
       "    }\n",
       "\n",
       "    .dataframe thead th {\n",
       "        text-align: right;\n",
       "    }\n",
       "</style>\n",
       "<table border=\"1\" class=\"dataframe\">\n",
       "  <thead>\n",
       "    <tr style=\"text-align: right;\">\n",
       "      <th></th>\n",
       "      <th>movie_id</th>\n",
       "      <th>title</th>\n",
       "      <th>tag</th>\n",
       "    </tr>\n",
       "  </thead>\n",
       "  <tbody>\n",
       "    <tr>\n",
       "      <th>0</th>\n",
       "      <td>19995</td>\n",
       "      <td>Avatar</td>\n",
       "      <td>[SamWorthington, ZoeSaldana, SigourneyWeaver, ...</td>\n",
       "    </tr>\n",
       "    <tr>\n",
       "      <th>1</th>\n",
       "      <td>285</td>\n",
       "      <td>Pirates of the Caribbean: At World's End</td>\n",
       "      <td>[JohnnyDepp, OrlandoBloom, KeiraKnightley, Ste...</td>\n",
       "    </tr>\n",
       "    <tr>\n",
       "      <th>2</th>\n",
       "      <td>206647</td>\n",
       "      <td>Spectre</td>\n",
       "      <td>[DanielCraig, ChristophWaltz, LéaSeydoux, Ralp...</td>\n",
       "    </tr>\n",
       "    <tr>\n",
       "      <th>3</th>\n",
       "      <td>49026</td>\n",
       "      <td>The Dark Knight Rises</td>\n",
       "      <td>[ChristianBale, MichaelCaine, GaryOldman, Anne...</td>\n",
       "    </tr>\n",
       "    <tr>\n",
       "      <th>4</th>\n",
       "      <td>49529</td>\n",
       "      <td>John Carter</td>\n",
       "      <td>[TaylorKitsch, LynnCollins, SamanthaMorton, Wi...</td>\n",
       "    </tr>\n",
       "  </tbody>\n",
       "</table>\n",
       "</div>"
      ],
      "text/plain": [
       "   movie_id                                     title  \\\n",
       "0     19995                                    Avatar   \n",
       "1       285  Pirates of the Caribbean: At World's End   \n",
       "2    206647                                   Spectre   \n",
       "3     49026                     The Dark Knight Rises   \n",
       "4     49529                               John Carter   \n",
       "\n",
       "                                                 tag  \n",
       "0  [SamWorthington, ZoeSaldana, SigourneyWeaver, ...  \n",
       "1  [JohnnyDepp, OrlandoBloom, KeiraKnightley, Ste...  \n",
       "2  [DanielCraig, ChristophWaltz, LéaSeydoux, Ralp...  \n",
       "3  [ChristianBale, MichaelCaine, GaryOldman, Anne...  \n",
       "4  [TaylorKitsch, LynnCollins, SamanthaMorton, Wi...  "
      ]
     },
     "execution_count": 46,
     "metadata": {},
     "output_type": "execute_result"
    }
   ],
   "source": [
    "df = df[[\"movie_id\", \"title\", \"tag\"]]\n",
    "df.head()"
   ]
  },
  {
   "cell_type": "code",
   "execution_count": 47,
   "id": "1e5cc728",
   "metadata": {},
   "outputs": [],
   "source": [
    "df[\"tag\"] = df[\"tag\"].apply(lambda x : \" \".join(x))\n"
   ]
  },
  {
   "cell_type": "code",
   "execution_count": 48,
   "id": "1dc9d776",
   "metadata": {},
   "outputs": [
    {
     "data": {
      "text/plain": [
       "'samworthington zoesaldana sigourneyweaver stephenlang michellerodriguez jamescameron action adventure fantasy sciencefiction cultureclash future spacewar spacecolony society spacetravel futuristic romance space alien tribe alienplanet cgi marine soldier battle loveaffair antiwar powerrelations mindandsoul 3d en ingeniousfilmpartners twentiethcenturyfoxfilmcorporation duneentertainment lightstormentertainment unitedstatesofamerica unitedkingdom 7 2009'"
      ]
     },
     "execution_count": 48,
     "metadata": {},
     "output_type": "execute_result"
    }
   ],
   "source": [
    "#as Sam and sam are treated as 2 different things\n",
    "df[\"tag\"] = df[\"tag\"].apply(lambda x : x.lower())\n",
    "df.tag[0]"
   ]
  },
  {
   "cell_type": "code",
   "execution_count": 49,
   "id": "33b8102a",
   "metadata": {},
   "outputs": [
    {
     "data": {
      "text/plain": [
       "'samworthington zoesaldana sigourneyweav stephenlang michellerodriguez jamescameron action adventur fantasi sciencefict cultureclash futur spacewar spacecoloni societi spacetravel futurist romanc space alien tribe alienplanet cgi marin soldier battl loveaffair antiwar powerrel mindandsoul 3d en ingeniousfilmpartn twentiethcenturyfoxfilmcorpor duneentertain lightstormentertain unitedstatesofamerica unitedkingdom 7 2009'"
      ]
     },
     "execution_count": 49,
     "metadata": {},
     "output_type": "execute_result"
    }
   ],
   "source": [
    "#to remove similar words like actor and actors \n",
    "from nltk.stem.porter import PorterStemmer   #class PS\n",
    "ps = PorterStemmer()\n",
    "def pstem(text):\n",
    "    s = []\n",
    "    for i in text.split():\n",
    "            s.append(ps.stem(i))\n",
    "    return \" \".join(s)\n",
    "df[\"tag\"] = df[\"tag\"].apply(pstem)\n",
    "df.tag[0]"
   ]
  },
  {
   "cell_type": "code",
   "execution_count": 50,
   "id": "a64ab107",
   "metadata": {},
   "outputs": [
    {
     "data": {
      "text/plain": [
       "array([[0, 0, 0, ..., 0, 0, 0],\n",
       "       [0, 0, 0, ..., 0, 0, 0],\n",
       "       [0, 0, 0, ..., 0, 0, 0],\n",
       "       ...,\n",
       "       [0, 0, 0, ..., 0, 0, 0],\n",
       "       [0, 0, 0, ..., 0, 0, 0],\n",
       "       [0, 0, 0, ..., 0, 0, 0]], dtype=int64)"
      ]
     },
     "execution_count": 50,
     "metadata": {},
     "output_type": "execute_result"
    }
   ],
   "source": [
    "#Now to convert these tags to vectors we use \"bag of words - combines all the tag to form 1 big tag and the n(max_features) most common words in this are then compared with each single tag\".\n",
    "from sklearn.feature_extraction.text import CountVectorizer   #this is a class and not a fun therefore make an object 1st\n",
    "cv = CountVectorizer(max_features = 5000 ,stop_words = 'english')  #stop_words means (is,a,or,etc)\n",
    "vectors = cv.fit_transform(df['tag']).toarray()\n",
    "vectors"
   ]
  },
  {
   "cell_type": "code",
   "execution_count": 51,
   "id": "f2300dea",
   "metadata": {},
   "outputs": [
    {
     "data": {
      "text/plain": [
       "array([[1.        , 0.15430335, 0.21622499, ..., 0.14638501, 0.15118579,\n",
       "        0.10192944],\n",
       "       [0.15430335, 1.        , 0.15569979, ..., 0.10540926, 0.16329932,\n",
       "        0.11009638],\n",
       "       [0.21622499, 0.15569979, 1.        , ..., 0.12309149, 0.19069252,\n",
       "        0.12856487],\n",
       "       ...,\n",
       "       [0.14638501, 0.10540926, 0.12309149, ..., 1.        , 0.25819889,\n",
       "        0.17407766],\n",
       "       [0.15118579, 0.16329932, 0.19069252, ..., 0.25819889, 1.        ,\n",
       "        0.26967994],\n",
       "       [0.10192944, 0.11009638, 0.12856487, ..., 0.17407766, 0.26967994,\n",
       "        1.        ]])"
      ]
     },
     "execution_count": 51,
     "metadata": {},
     "output_type": "execute_result"
    }
   ],
   "source": [
    "#now to compare the similarity between each vectors(row/movie) with every other vector/row/movie we use cosine similarity\n",
    "from sklearn.metrics.pairwise import cosine_similarity\n",
    "similarity = cosine_similarity(vectors)\n",
    "similarity"
   ]
  },
  {
   "cell_type": "code",
   "execution_count": 102,
   "id": "6eb6dd1b",
   "metadata": {},
   "outputs": [],
   "source": [
    "def recommend(movie_name):\n",
    "    index = df[df['title'] == movie_name].index[0]\n",
    "    dis = sorted(enumerate(similarity[index]), key=lambda x: x[1], reverse=True)[1:6]\n",
    "\n",
    "    for i in dis:\n",
    "        print(df.iloc[i[0]].title)\n",
    "    "
   ]
  },
  {
   "cell_type": "code",
   "execution_count": 103,
   "id": "1fe269b6",
   "metadata": {},
   "outputs": [
    {
     "name": "stdout",
     "output_type": "stream",
     "text": [
      "The Dark Knight\n",
      "The Dark Knight Rises\n",
      "Batman & Robin\n",
      "Batman v Superman: Dawn of Justice\n",
      "Batman\n"
     ]
    }
   ],
   "source": [
    "recommend('Batman Begins')"
   ]
  },
  {
   "cell_type": "code",
   "execution_count": 81,
   "id": "4411b1bc",
   "metadata": {},
   "outputs": [],
   "source": [
    "import pickle\n",
    "pickle.dump(df.to_dict(),open('df_pycharm.pkl','wb'))"
   ]
  },
  {
   "cell_type": "code",
   "execution_count": 83,
   "id": "4c1190ac",
   "metadata": {},
   "outputs": [],
   "source": [
    "pickle.dump(similarity,open('similarity_pycharm.pkl','wb'))"
   ]
  }
 ],
 "metadata": {
  "kernelspec": {
   "display_name": "Python 3 (ipykernel)",
   "language": "python",
   "name": "python3"
  },
  "language_info": {
   "codemirror_mode": {
    "name": "ipython",
    "version": 3
   },
   "file_extension": ".py",
   "mimetype": "text/x-python",
   "name": "python",
   "nbconvert_exporter": "python",
   "pygments_lexer": "ipython3",
   "version": "3.9.7"
  }
 },
 "nbformat": 4,
 "nbformat_minor": 5
}
